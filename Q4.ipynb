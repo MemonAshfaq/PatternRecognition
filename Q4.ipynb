{
 "cells": [
  {
   "cell_type": "code",
   "execution_count": 15,
   "metadata": {},
   "outputs": [],
   "source": [
    "# import necessary packages \n",
    "import numpy as np\n",
    "import matplotlib.pyplot as plt\n",
    "from scipy.io import loadmat\n",
    "import scipy.spatial.distance as dist\n",
    "\n",
    "mat = loadmat('spamData.mat')\n",
    "\n",
    "xTestOrig = mat['Xtest']  # features of emails in test set\n",
    "xTrainOrig = mat['Xtrain']  # features of emails in training set\n",
    "yTestOrig = mat['ytest']  # categories of emails in test set\n",
    "yTrainOrig = mat['ytrain']  # categories of emails in training set"
   ]
  },
  {
   "cell_type": "code",
   "execution_count": 16,
   "metadata": {},
   "outputs": [],
   "source": [
    "# data preprocessing: binarization and log transformation\n",
    "xTestLog = np.log(xTestOrig+0.1)\n",
    "xTrainLog = np.log(xTrainOrig+0.1)\n",
    "yTrainFlat = yTrainOrig.flatten()\n",
    "yTestFlat = yTestOrig.flatten()"
   ]
  },
  {
   "cell_type": "code",
   "execution_count": 17,
   "metadata": {},
   "outputs": [],
   "source": [
    "Ks = np.arange(1,10,4)#np.hstack((np.arange(1,10,1), np.arange(10,105,5)))"
   ]
  },
  {
   "cell_type": "code",
   "execution_count": 18,
   "metadata": {},
   "outputs": [],
   "source": [
    "def euclideanDistance(testRow,train):\n",
    "    eucDist = []\n",
    "    for trainRow in train:\n",
    "        eucDist.append(dist.euclidean(testRow, trainRow))\n",
    "    return eucDist"
   ]
  },
  {
   "cell_type": "code",
   "execution_count": 19,
   "metadata": {},
   "outputs": [],
   "source": [
    "#xTestLog = xTestLog[0:100]\n",
    "#yTestFlat = yTestFlat[0:100]\n",
    "\n",
    "#xTrainLog = xTrainLog[0:100]\n",
    "#yTrainFlat = yTrainFlat[0:100]"
   ]
  },
  {
   "cell_type": "code",
   "execution_count": 20,
   "metadata": {},
   "outputs": [],
   "source": [
    "result = []\n",
    "for xTestRow in xTestLog:\n",
    "    eucDist = euclideanDistance(xTestRow,xTrainLog)\n",
    "    kNearest = np.argsort(eucDist)[:2]\n",
    "    probSpam = np.sum(yTrainFlat[kNearest] == 1)\n",
    "    probNonSpam = np.sum(yTrainFlat[kNearest] == 0)\n",
    "    result.append((probSpam > probNonSpam) + 0)\n"
   ]
  },
  {
   "cell_type": "code",
   "execution_count": 21,
   "metadata": {},
   "outputs": [
    {
     "name": "stdout",
     "output_type": "stream",
     "text": [
      "6.966145833333333 %\n"
     ]
    }
   ],
   "source": [
    "print(np.sum(yTestFlat != result)/len(yTestFlat)*100 ,\"%\")"
   ]
  },
  {
   "cell_type": "code",
   "execution_count": null,
   "metadata": {},
   "outputs": [],
   "source": []
  }
 ],
 "metadata": {
  "kernelspec": {
   "display_name": "Python 3",
   "language": "python",
   "name": "python3"
  },
  "language_info": {
   "codemirror_mode": {
    "name": "ipython",
    "version": 3
   },
   "file_extension": ".py",
   "mimetype": "text/x-python",
   "name": "python",
   "nbconvert_exporter": "python",
   "pygments_lexer": "ipython3",
   "version": "3.7.4"
  }
 },
 "nbformat": 4,
 "nbformat_minor": 1
}
