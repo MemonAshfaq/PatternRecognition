{
 "cells": [
  {
   "cell_type": "markdown",
   "metadata": {},
   "source": [
    "========================================================================================================================\n",
    "# National University of Singapore\n",
    "# Pattern Recognition (EE5907)\n",
    "## Assignment CA1\n",
    "## Matriculation: A0179741U\n",
    "## Name: Rogatiya Mohmad Aspak Arif\n",
    "========================================================================================================================"
   ]
  },
  {
   "cell_type": "markdown",
   "metadata": {},
   "source": [
    "**First thing First**\n",
    "1. Import necessary python packages\n",
    "1. Load spamData.mat file\n",
    "2. Read features and labels for training and test data. \n",
    "2. Log transform the feature data for training and test sets. (For Q2, Q3 and Q4)\n",
    "3. Binarize the feature data for traing and test sets. (For Q1)\n",
    "6. Flatten the label data in 1D array."
   ]
  },
  {
   "cell_type": "code",
   "execution_count": 1,
   "metadata": {},
   "outputs": [],
   "source": [
    "# 1. import necessary python packages\n",
    "from scipy.io import loadmat\n",
    "import matplotlib.pyplot as plt\n",
    "import numpy as np\n",
    "from sklearn.preprocessing import binarize\n",
    "import scipy.spatial.distance as dist\n",
    "import math\n",
    "\n",
    "# 2. Load spamData.mat file\n",
    "matObject = loadmat('spamData.mat')\n",
    "\n",
    "# 3. Read feature and labels for training and test data\n",
    "xTrainOrig = matObject['Xtrain']\n",
    "yTrainOrig = matObject['ytrain']\n",
    "\n",
    "xTestOrig = matObject['Xtest']\n",
    "yTestOrig = matObject['ytest']\n",
    "\n",
    "# 4. Log transform the feature data for training and test sets\n",
    "xTrainLog = np.log(xTrainOrig+0.1)\n",
    "xTestLog = np.log(xTestOrig+0.1)\n",
    "\n",
    "# 5. Binarize the feature data for training and test\n",
    "xTrainBin = binarize(xTrainOrig)\n",
    "xTestBin = binarize(xTestOrig)\n",
    "\n",
    "# 6. Flatten the label data in 1D array\n",
    "yTrainFlat = yTrainOrig.flatten()\n",
    "yTestFlat = yTestOrig.flatten()"
   ]
  },
  {
   "cell_type": "markdown",
   "metadata": {},
   "source": [
    "=========================================================================================================================\n",
    "## Q1: Beta-binomial Naive Bayes ##\n",
    "\n",
    "Fit a **Beta-Binomial naive Bayes classifier** on the **binarized data** from the Data Processing section. Since there are a lot of spam and non-spam emails, you do not need to assume any prior on the class label. In other words, the **class label prior λ can be estimated using ML** and you can use λ^ML as a plug-in estimator for testing.\n",
    "\n",
    "On the other hand, you should assume a prior **Beta(α,α)** on the feature distribution (note that the two hyperparameters for the Beta prior are set to be the same). For each value of **α = {0, 0.5, 1, 1.5, 2, · · · , 100}**, fit the classifier on the training data and compute its error rate (i.e., percentage of emails classified wrongly) on the test data. For the features (i.e., when computing p(x|y)), please use Bayesian (i.e., posterior predictive) training and testing (see week 3 lecture notes on “Predicting Target Class of Test Data ˜x Using Posterior Predictive Distribution”).\n",
    "\n",
    "Make sure you include at least the following in your report:\n",
    "\n",
    "**• Plots of training and test error rates versus α**\n",
    "\n",
    "**• What do you observe about the training and test errors as α change?**\n",
    "\n",
    "**• Training and testing error rates for α = 1, 10 and 100.**\n",
    "\n",
    "========================================================================================================================="
   ]
  },
  {
   "cell_type": "markdown",
   "metadata": {},
   "source": [
    "### Function to calculate the Maximum Likelihood (ML) for given label."
   ]
  },
  {
   "cell_type": "code",
   "execution_count": 2,
   "metadata": {},
   "outputs": [],
   "source": [
    "# Calculate Maximum Likelihood (ML) for given label\n",
    "def calculateML(label):\n",
    "    return np.log(list(yTrainFlat).count(label)/len(yTrainFlat))"
   ]
  },
  {
   "cell_type": "markdown",
   "metadata": {},
   "source": [
    "### Function to calculate Feature Likelihood (FL)"
   ]
  },
  {
   "cell_type": "code",
   "execution_count": 3,
   "metadata": {},
   "outputs": [],
   "source": [
    "# Calculate Feature Likelihood (FL)\n",
    "def calculateFL(index,feature,α,label,FL,labelCount):\n",
    "    tempCal = ( (FL[index]+α) / (labelCount + (α*2)) )  \n",
    "    if(feature == 1):\n",
    "        return np.log(tempCal)\n",
    "    else:\n",
    "        return np.log(1 - tempCal)"
   ]
  },
  {
   "cell_type": "markdown",
   "metadata": {},
   "source": [
    "### Classifier function."
   ]
  },
  {
   "cell_type": "code",
   "execution_count": 4,
   "metadata": {},
   "outputs": [],
   "source": [
    "# Classify a given email as spam or non-spam for given alpha    \n",
    "def classify(email,α):\n",
    "    probList = []\n",
    "    for labelIndex,label in enumerate(labels):\n",
    "        probLabel = lambdaLabels[labelIndex]\n",
    "        FL = FL_list[labelIndex]\n",
    "        labelCount = labelCounts[labelIndex]\n",
    "        for index, feature in enumerate(email):\n",
    "            probLabel += calculateFL(index,feature,α,label,FL,labelCount)\n",
    "        probList.append(probLabel)\n",
    "    return (labels[probList.index(max(probList))])"
   ]
  },
  {
   "cell_type": "markdown",
   "metadata": {},
   "source": [
    "### Prepare the list of lambdas, label frequencies and feature likelihood for each label."
   ]
  },
  {
   "cell_type": "code",
   "execution_count": 5,
   "metadata": {},
   "outputs": [],
   "source": [
    "labels = [0,1]\n",
    "\n",
    "FL_list = []\n",
    "lambdaLabels = []\n",
    "labelCounts = []\n",
    "\n",
    "for labelIndex,label in enumerate(labels):\n",
    "    FL_list.append(xTrainBin[yTrainFlat==label].sum(axis=0))\n",
    "    lambdaLabels.append(calculateML(label))\n",
    "    labelCounts.append(list(yTrainFlat).count(label))"
   ]
  },
  {
   "cell_type": "markdown",
   "metadata": {},
   "source": [
    "### List of alphas given in assignment question.\n",
    "\n",
    " α = {0, 0.5, 1, 1.5, 2, · · · , 100}"
   ]
  },
  {
   "cell_type": "code",
   "execution_count": 6,
   "metadata": {},
   "outputs": [],
   "source": [
    "αList = np.arange(0,100.5,0.5)"
   ]
  },
  {
   "cell_type": "markdown",
   "metadata": {},
   "source": [
    "### Classify each email in training and test data set and compare against real label. Repeat it for each α."
   ]
  },
  {
   "cell_type": "code",
   "execution_count": 7,
   "metadata": {},
   "outputs": [],
   "source": [
    "trainError = []\n",
    "testError = []    \n",
    "for αIndex, α in enumerate(αList):\n",
    "    training_results = []\n",
    "    test_results = []\n",
    "\n",
    "    for index,email in enumerate(xTrainBin):\n",
    "        training_results.append(classify(email,α))\n",
    "    training_results = np.asarray(training_results)\n",
    "    trainError.append(np.sum(yTrainFlat == training_results))\n",
    "\n",
    "    for index,email in enumerate(xTestBin):\n",
    "        test_results.append(classify(email,α))\n",
    "    test_results = np.asarray(test_results)\n",
    "    testError.append(np.sum(yTestFlat == test_results))"
   ]
  },
  {
   "cell_type": "markdown",
   "metadata": {},
   "source": [
    "### Find number of incorrect classifications for training and test set."
   ]
  },
  {
   "cell_type": "code",
   "execution_count": 8,
   "metadata": {},
   "outputs": [],
   "source": [
    "totalTrainMails = len(yTrainFlat)\n",
    "trainError[:] = [(1-x/totalTrainMails)*100 for x in trainError]\n",
    "\n",
    "totalTestMails = len(yTestFlat)\n",
    "testError[:] = [(1-x/totalTestMails)*100 for x in testError]"
   ]
  },
  {
   "cell_type": "markdown",
   "metadata": {},
   "source": [
    "### Plots of training and test error rates versus α"
   ]
  },
  {
   "cell_type": "code",
   "execution_count": 9,
   "metadata": {},
   "outputs": [
    {
     "data": {
      "image/png": "[encoded data removed]",
      "text/plain": [
       "<Figure size 432x288 with 1 Axes>"
      ]
     },
     "metadata": {
      "needs_background": "light"
     },
     "output_type": "display_data"
    }
   ],
   "source": [
    "plt.plot(αList,trainError,'g',label='Training', linewidth=3)\n",
    "plt.plot(αList,testError,'r',label='Testing', linewidth=3)\n",
    "plt.title('Q1: Beta-binomial Naive Bayes')\n",
    "plt.ylabel('Error %')\n",
    "plt.xlabel('α')\n",
    "plt.legend()\n",
    "plt.show()"
   ]
  },
  {
   "cell_type": "markdown",
   "metadata": {},
   "source": [
    "### What do you observe about the training and test errors as α change?"
   ]
  },
  {
   "cell_type": "markdown",
   "metadata": {},
   "source": [
    "The error rate generally increases as the α increases. However, the error rate for test set is higher compared to training set, because the training data is already used during the training."
   ]
  },
  {
   "cell_type": "markdown",
   "metadata": {},
   "source": [
    "### Training and testing error rates for α = 1, 10 and 100."
   ]
  },
  {
   "cell_type": "code",
   "execution_count": 10,
   "metadata": {},
   "outputs": [
    {
     "name": "stdout",
     "output_type": "stream",
     "text": [
      "α:  1\n",
      "Training error:\t 11.42\n",
      "Test error:\t 12.37\n",
      "---------------------------\n",
      "α:  10\n",
      "Training error:\t 11.75\n",
      "Test error:\t 12.70\n",
      "---------------------------\n",
      "α:  100\n",
      "Training error:\t 13.64\n",
      "Test error:\t 14.65\n",
      "---------------------------\n"
     ]
    }
   ],
   "source": [
    "for α in [1,10,100]:\n",
    "    print (\"α: \",α)\n",
    "    print (\"Training error:\\t %.2f\" % trainError[αList.tolist().index(α)])\n",
    "    print (\"Test error:\\t %.2f\" % testError[αList.tolist().index(α)])\n",
    "    print (\"---------------------------\")"
   ]
  },
  {
   "cell_type": "markdown",
   "metadata": {},
   "source": [
    "=========================================================================================================================\n",
    "## Q2: Gaussian Naive Bayes ##\n",
    "\n",
    "Fit a **Gaussian naive Bayes classifier** on the **log-transformed data** from the Data Processing section. Since there are a lot of spam and non-spam emails, you do not need to assume any prior on the class label. In other words, the class label prior λ can be estimated using ML and you can use λML as a plug-in estimator for testing. \n",
    "\n",
    "For this exercise, just use maximum likelihood to estimate the class conditional mean and variance of each feature and use ML estimates as a plug-in estimator for testing (see week 3 lecture notes on “ML estimation of μ, σ^2” and “Predicting Target Class of Test Data ˜x Using Posterior Predictive Distribution”). \n",
    "\n",
    "Make sure you include the following in your report\n",
    "\n",
    "**• Training and testing error rates for the log-transformed data.**\n",
    "\n",
    "=========================================================================================================================\n"
   ]
  },
  {
   "cell_type": "markdown",
   "metadata": {},
   "source": [
    "### Function to calculate Maximum Likelihood for given label."
   ]
  },
  {
   "cell_type": "code",
   "execution_count": 11,
   "metadata": {},
   "outputs": [],
   "source": [
    "def calculateML(label):\n",
    "    return np.log(list(yTrainFlat).count(label)/len(yTrainFlat))"
   ]
  },
  {
   "cell_type": "markdown",
   "metadata": {},
   "source": [
    "### Function to calculate 2nd term"
   ]
  },
  {
   "cell_type": "code",
   "execution_count": 12,
   "metadata": {},
   "outputs": [],
   "source": [
    "def calculateSecondTerm(feature,xStd,xMean):\n",
    "    return -np.log(xStd) - ((feature - xMean)/xStd) ** 2 / 2"
   ]
  },
  {
   "cell_type": "markdown",
   "metadata": {},
   "source": [
    "### Function to classify given email into spam or non-spam category"
   ]
  },
  {
   "cell_type": "code",
   "execution_count": 13,
   "metadata": {},
   "outputs": [],
   "source": [
    "def classify(email):\n",
    "    probList = []\n",
    "    for labelIndex,label in enumerate(labels):\n",
    "        probLabel = lambdaLabels[labelIndex]\n",
    "        for index, feature in enumerate(email):\n",
    "            xMean = MeanList[labelIndex][index]\n",
    "            xStd  = StdList[labelIndex][index]\n",
    "            probLabel += calculateSecondTerm(feature,xStd,xMean)\n",
    "        probList.append(probLabel)\n",
    "    return (labels[probList.index(max(probList))])"
   ]
  },
  {
   "cell_type": "markdown",
   "metadata": {},
   "source": [
    "### Prepare list of Mean, Standard Deviation, Maximum Likelihood (ML), Frequency for each label."
   ]
  },
  {
   "cell_type": "code",
   "execution_count": 14,
   "metadata": {},
   "outputs": [],
   "source": [
    "labels = [0,1]\n",
    "MeanList = []\n",
    "StdList = []\n",
    "lambdaLabels = []\n",
    "labelCounts = []\n",
    "\n",
    "for labelIndex,label in enumerate(labels):\n",
    "    MeanList.append(xTrainLog[yTrainFlat==label].mean(axis=0))\n",
    "    StdList.append(xTrainLog[yTrainFlat==label].std(axis=0))\n",
    "    lambdaLabels.append(calculateML(label))\n",
    "    labelCounts.append(list(yTrainFlat).count(label))"
   ]
  },
  {
   "cell_type": "markdown",
   "metadata": {},
   "source": [
    "### Classify the training emails and compute the number of wrongly classified emails. (training error)"
   ]
  },
  {
   "cell_type": "code",
   "execution_count": 15,
   "metadata": {},
   "outputs": [],
   "source": [
    "trainingResults = []\n",
    "\n",
    "for index,email in enumerate(xTrainLog):\n",
    "    trainingResults.append(classify(email))\n",
    "\n",
    "trainingResults = np.asarray(trainingResults)\n",
    "trainError = np.sum(yTrainFlat != trainingResults)"
   ]
  },
  {
   "cell_type": "markdown",
   "metadata": {},
   "source": [
    "### Classify the test emails and compute the number of wrongly classified emails. (test error)."
   ]
  },
  {
   "cell_type": "code",
   "execution_count": 16,
   "metadata": {},
   "outputs": [],
   "source": [
    "testResults = []\n",
    "\n",
    "for index,email in enumerate(xTestLog):\n",
    "    testResults.append(classify(email))\n",
    "\n",
    "testResults = np.asarray(testResults)\n",
    "testError = np.sum(yTestFlat != testResults)"
   ]
  },
  {
   "cell_type": "markdown",
   "metadata": {},
   "source": [
    "### Training and testing error rates for the log-transformed data."
   ]
  },
  {
   "cell_type": "code",
   "execution_count": 17,
   "metadata": {},
   "outputs": [
    {
     "name": "stdout",
     "output_type": "stream",
     "text": [
      "--------------------------\n",
      "Training error\t: 16.80%\n",
      "Test error \t: 16.34%\n",
      "--------------------------\n"
     ]
    }
   ],
   "source": [
    "totalTrainMails = len(yTrainFlat)\n",
    "totalTestMails = len(yTestFlat)\n",
    "\n",
    "print (\"--------------------------\")\n",
    "print (\"Training error\\t: {:.2f}%\".format((trainError/totalTrainMails) * 100))\n",
    "print (\"Test error \\t: {:.2f}%\".format((testError/totalTestMails) * 100))\n",
    "print (\"--------------------------\")"
   ]
  },
  {
   "cell_type": "markdown",
   "metadata": {},
   "source": [
    "=========================================================================================================================\n",
    "## Q3: Logistic regression ##\n",
    "\n",
    "For the **log-transformed data**, fit a **logistic regression model with l2 regularization** (see week 4 lecture notes on “Newton’s Method for Logistic Regression” and “Exclude Bias from l2 Regularization”). For each regularization parameter value \n",
    "**λ = {1, 2, · · · , 9, 10, 15, 20, · · · , 95, 100}** (note the jump in interval from 10 to 15 and beyond), fit the logistic regression model on the training data and compute its error rate (i.e., percentage of emails classified wrongly) on the test\n",
    "data. \n",
    "\n",
    "Make sure you include at least the following in your report:\n",
    "\n",
    "**• Plots of training and test error rates versus λ**\n",
    "\n",
    "**• What do you observe about the training and test errors as λ change?**\n",
    "\n",
    "**• Training and testing error rates for λ = 1, 10 and 100.**\n",
    "\n",
    "\n",
    "========================================================================================================================="
   ]
  },
  {
   "cell_type": "markdown",
   "metadata": {},
   "source": [
    "### Sigmoid Function"
   ]
  },
  {
   "cell_type": "code",
   "execution_count": 18,
   "metadata": {},
   "outputs": [],
   "source": [
    "def sigm(x):\n",
    "    return 1/(1+np.exp(-x))"
   ]
  },
  {
   "cell_type": "markdown",
   "metadata": {},
   "source": [
    "### Function to find parameters g and H for given training set, ω and λ."
   ]
  },
  {
   "cell_type": "code",
   "execution_count": 19,
   "metadata": {},
   "outputs": [],
   "source": [
    "def find_g_H(xMatx, yMatx, ω, λ):\n",
    "    D = len(xMatx[0])\n",
    "    xMatx = np.insert(xMatx, 0, 1, axis = 1)\n",
    "    \n",
    "    µList = sigm(np.dot(xMatx, ω))\n",
    "    sDiag = []    \n",
    "    for µ in µList:\n",
    "        sDiag.append(µ * (1 - µ))\n",
    "    S = np.diag(sDiag)\n",
    "        \n",
    "    I = np.ones(D)\n",
    "    I = np.insert(I, 0, 0)\n",
    "    I = np.diag(I)\n",
    "    \n",
    "    λI = np.dot(λ, I)\n",
    "    λω = np.insert(λ * ω[1:], 0, 0)    \n",
    "\n",
    "    gReg = np.dot(xMatx.T, (µList - yMatx))\n",
    "    HReg = np.dot(xMatx.T, np.dot(S, xMatx))    \n",
    "    gReg = gReg + λω\n",
    "    HReg = HReg + λI\n",
    "    \n",
    "    return gReg, HReg"
   ]
  },
  {
   "cell_type": "markdown",
   "metadata": {},
   "source": [
    "### Function to find ω for given training set and λ."
   ]
  },
  {
   "cell_type": "code",
   "execution_count": 20,
   "metadata": {},
   "outputs": [],
   "source": [
    "def findOmega(xMatx, yMatx, λ):\n",
    "    D = len(xMatx[0])\n",
    "    ω = np.zeros(D + 1)\n",
    "    endLoop = False\n",
    "    \n",
    "    while endLoop == False:\n",
    "        gReg, HReg = find_g_H(xMatx, yMatx, ω, λ)\n",
    "        ω_next = ω - np.dot(np.linalg.inv(HReg), gReg)\n",
    "        if (np.allclose(ω_next,ω,0.0001,0.0001)):\n",
    "            endLoop = True\n",
    "        else:\n",
    "            ω = ω_next\n",
    "    return ω_next\n"
   ]
  },
  {
   "cell_type": "markdown",
   "metadata": {},
   "source": [
    "### Logistic Regression Classifier Function"
   ]
  },
  {
   "cell_type": "code",
   "execution_count": 21,
   "metadata": {},
   "outputs": [],
   "source": [
    "def logisticRegression(xMatx, yMatx, xTrain, yTrain, lam):\n",
    "    omega = findOmega(xTrain, yTrain, lam)\n",
    "    error_count = 0\n",
    "\n",
    "    result = (sigm(omega[0] + np.dot(xMatx, omega[1:])) > 0.5) + 0\n",
    "    return ((np.sum(result != yMatx)) / len(yMatx)) * 100"
   ]
  },
  {
   "cell_type": "markdown",
   "metadata": {},
   "source": [
    "### List of λ given in assignment question\n",
    "\n",
    "**λ = {1, 2, · · · , 9, 10, 15, 20, · · · , 95, 100}**"
   ]
  },
  {
   "cell_type": "code",
   "execution_count": 22,
   "metadata": {},
   "outputs": [],
   "source": [
    "λList = np.hstack((np.arange(1,10,1), np.arange(10,105,5)))"
   ]
  },
  {
   "cell_type": "markdown",
   "metadata": {},
   "source": [
    "### Classify the training and test emails and compute the number of wrongly classified emails."
   ]
  },
  {
   "cell_type": "code",
   "execution_count": 23,
   "metadata": {},
   "outputs": [],
   "source": [
    "trainingError = []\n",
    "testError = []\n",
    "\n",
    "for λ in λList:\n",
    "    trainingError.append(logisticRegression(xTrainLog, yTrainFlat, xTrainLog, yTrainFlat, λ))\n",
    "    testError.append(logisticRegression(xTestLog, yTestFlat, xTrainLog, yTrainFlat, λ))"
   ]
  },
  {
   "cell_type": "markdown",
   "metadata": {},
   "source": [
    "### Plots of training and test error rates versus λ."
   ]
  },
  {
   "cell_type": "code",
   "execution_count": 24,
   "metadata": {},
   "outputs": [
    {
     "data": {
      "image/png": "[encoded data removed]",
      "text/plain": [
       "<Figure size 432x288 with 1 Axes>"
      ]
     },
     "metadata": {
      "needs_background": "light"
     },
     "output_type": "display_data"
    }
   ],
   "source": [
    "plt.plot(λList,trainingError,'g',label='Training', linewidth=3)\n",
    "plt.plot(λList,testError,'r',label='Test', linewidth=3)\n",
    "plt.title('Q3: Logistic Regression')\n",
    "plt.ylabel('Error %')\n",
    "plt.xlabel('λ')\n",
    "plt.legend()\n",
    "plt.show()"
   ]
  },
  {
   "cell_type": "markdown",
   "metadata": {},
   "source": [
    "### What do you observe about the training and test errors as λ change?\n",
    "\n",
    "The training and test error generally increase with increasing λ. However, the error is minimum for λ=4 and λ=7, which means these values of λ are better for this Logistic Regression model."
   ]
  },
  {
   "cell_type": "markdown",
   "metadata": {},
   "source": [
    "### Training and testing error rates for λ = 1, 10 and 100."
   ]
  },
  {
   "cell_type": "code",
   "execution_count": 25,
   "metadata": {},
   "outputs": [
    {
     "name": "stdout",
     "output_type": "stream",
     "text": [
      "λ:  1\n",
      "Training error:\t 5.35\n",
      "Test error:\t 6.05\n",
      "---------------------------\n",
      "λ:  10\n",
      "Training error:\t 5.38\n",
      "Test error:\t 5.99\n",
      "---------------------------\n",
      "λ:  100\n",
      "Training error:\t 6.39\n",
      "Test error:\t 6.64\n",
      "---------------------------\n"
     ]
    }
   ],
   "source": [
    "for λ in [1,10,100]:\n",
    "    print (\"λ: \",λ)\n",
    "    print (\"Training error:\\t %.2f\" % trainingError[λList.tolist().index(λ)])\n",
    "    print (\"Test error:\\t %.2f\" % testError[λList.tolist().index(λ)])\n",
    "    print (\"---------------------------\")"
   ]
  },
  {
   "cell_type": "markdown",
   "metadata": {},
   "source": [
    "=======================================================================================================================\n",
    "## Q4: K-Nearest Neighbors ##\n",
    "\n",
    "For the **log-transformed data**, implement a **KNN classifier** (see week 5 lecture notes on “Nonparametric Classification”). Use the Euclidean distance to measure distance between neighbors.\n",
    "\n",
    "For each value of **K = {1, 2, · · · , 9, 10, 15, 20, · · · , 95, 100}** (note the jump in interval from 10 to 15 and beyond), compute the training and test error rates (i.e., percentage of emails classified wrongly). \n",
    "\n",
    "Make sure you include at least the following in your report:\n",
    "\n",
    "**• Plots of training and test error rates versus K**\n",
    "\n",
    "**• What do you observe about the training and test errors as K change?**\n",
    "\n",
    "**• Training and testing error rates for K = 1, 10 and 100.**\n",
    "\n",
    "======================================================================================================================="
   ]
  },
  {
   "cell_type": "markdown",
   "metadata": {},
   "source": [
    "### Functions to measure Euclidean Distance between a test sample and each training sample. \n",
    "\n",
    "### I tried several methods to get euclidean distance, but most methods are slow. The fastest among all is to use norm method from Numpy library.\n"
   ]
  },
  {
   "cell_type": "code",
   "execution_count": 26,
   "metadata": {},
   "outputs": [],
   "source": [
    "def euclideanDistance(testRow,train):\n",
    "    eucDist = []\n",
    "    for trainRow in train:\n",
    "        eucDist.append(dist.euclidean(testRow, trainRow))\n",
    "    return eucDist\n",
    "\n",
    "def FastEuclideanDistance(testRow, train):\n",
    "    eucDist = []\n",
    "    for trainRow in train:\n",
    "        Dist = [(a - b)**2 for a, b in zip(testRow, trainRow)]\n",
    "        eucDist.append(math.sqrt(sum(Dist)))\n",
    "    return eucDist\n",
    "\n",
    "def FasterEuclideanDistance(testRow,train):\n",
    "    eucDist = []\n",
    "    for trainRow in train:\n",
    "        eucDist.append(np.linalg.norm(testRow-trainRow))\n",
    "    return eucDist"
   ]
  },
  {
   "cell_type": "markdown",
   "metadata": {},
   "source": [
    "### KNN Classifier.\n",
    "\n",
    "### It returns the percentage of wrongly classified email data."
   ]
  },
  {
   "cell_type": "code",
   "execution_count": 27,
   "metadata": {},
   "outputs": [],
   "source": [
    "def KNN(k,xTest,yTest,xTrain,yTrain):\n",
    "    result = []\n",
    "    for xTestRow in xTest:\n",
    "        eucDist = FasterEuclideanDistance(xTestRow,xTrain)\n",
    "        kNearest = np.argsort(eucDist)[:k]\n",
    "        probSpam = np.sum(yTrain[kNearest] == 1)\n",
    "        probNonSpam = np.sum(yTrain[kNearest] == 0)\n",
    "        result.append((probSpam > probNonSpam) + 0)\n",
    "    return ( np.sum(yTest != result) / len(yTest)*100 )"
   ]
  },
  {
   "cell_type": "markdown",
   "metadata": {},
   "source": [
    "### List of Ks mentioned in the assignment question\n",
    "\n",
    "### K = {1, 2, · · · , 9, 10, 15, 20, · · · , 95, 100}"
   ]
  },
  {
   "cell_type": "code",
   "execution_count": 28,
   "metadata": {},
   "outputs": [],
   "source": [
    "KList = np.hstack((np.arange(1,10,1), np.arange(10,105,5)))"
   ]
  },
  {
   "cell_type": "markdown",
   "metadata": {},
   "source": [
    "## Run KNN classifier for training and test samples and compute the error rates."
   ]
  },
  {
   "cell_type": "code",
   "execution_count": 29,
   "metadata": {},
   "outputs": [],
   "source": [
    "trainError = []\n",
    "testError = []\n",
    "for k in KList:\n",
    "    trainError.append(KNN(k,xTrainLog,yTrainFlat,xTrainLog,yTrainFlat))\n",
    "    testError.append(KNN(k,xTestLog,yTestFlat,xTrainLog,yTrainFlat))"
   ]
  },
  {
   "cell_type": "markdown",
   "metadata": {},
   "source": [
    "### Plots of training and test error rates versus K"
   ]
  },
  {
   "cell_type": "code",
   "execution_count": 30,
   "metadata": {},
   "outputs": [
    {
     "data": {
      "image/png": "[encoded data removed]",
      "text/plain": [
       "<Figure size 432x288 with 1 Axes>"
      ]
     },
     "metadata": {
      "needs_background": "light"
     },
     "output_type": "display_data"
    }
   ],
   "source": [
    "plt.plot(KList,trainError,'g',label='Training', linewidth=1)\n",
    "plt.plot(KList,testError,'r',label='Testing', linewidth=1)\n",
    "plt.title('Q4:KNN')\n",
    "plt.ylabel('Error %')\n",
    "plt.xlabel('k')\n",
    "plt.legend()\n",
    "plt.show()"
   ]
  },
  {
   "cell_type": "markdown",
   "metadata": {},
   "source": [
    "### What do you observe about the training and test errors as K change?"
   ]
  },
  {
   "cell_type": "markdown",
   "metadata": {},
   "source": [
    "It is clear from above graph that training error is minimum at K = 0. For 0 < K ≤ 30, training error increases drastically as K increases. For K ≥ 30, the training error increases slowly as K increases.\n",
    "\n",
    "The test error rate doesn't change rapidly with increase in K. In other words, test error rate is more stable compared to training error rate. \n",
    "\n",
    "The training and test error rates are almost equal at very large K (K ≥ 60). Overall, K = 0 has the best result for training but test error is still as high as 6.5% for K = 0."
   ]
  },
  {
   "cell_type": "markdown",
   "metadata": {},
   "source": [
    "### Training and testing error rates for K = 1, 10 and 100."
   ]
  },
  {
   "cell_type": "code",
   "execution_count": 31,
   "metadata": {},
   "outputs": [
    {
     "name": "stdout",
     "output_type": "stream",
     "text": [
      "K:  1\n",
      "Training error:\t 0.03\n",
      "Test error:\t 6.45\n",
      "---------------------------\n",
      "K:  10\n",
      "Training error:\t 5.38\n",
      "Test error:\t 6.51\n",
      "---------------------------\n",
      "K:  100\n",
      "Training error:\t 8.84\n",
      "Test error:\t 8.79\n",
      "---------------------------\n"
     ]
    }
   ],
   "source": [
    "for k in [1,10,100]:\n",
    "    print (\"K: \",k)\n",
    "    print (\"Training error:\\t %.2f\" % trainError[KList.tolist().index(k)])\n",
    "    print (\"Test error:\\t %.2f\" % testError[KList.tolist().index(k)])\n",
    "    print (\"---------------------------\")"
   ]
  },
  {
   "cell_type": "markdown",
   "metadata": {},
   "source": [
    "========================================================================================================================\n",
    "## Q5: Survey \n",
    "\n",
    "Please give an estimate of how much time you spent on this assignment.\n",
    "\n",
    "========================================================================================================================"
   ]
  },
  {
   "cell_type": "markdown",
   "metadata": {},
   "source": [
    "|**Question**   | **Time Spent**|\n",
    "| ------------: | --------------: |\n",
    "| Q1  | 10 hrs |\n",
    "| Q2  | 8 hrs  |\n",
    "| Q3  | 10 hrs |\n",
    "| Q4  | 7 hrs |\n",
    "| Report  | 3 hrs |\n",
    "| **Total** |**38 hrs**|\n"
   ]
  }
 ],
 "metadata": {
  "kernelspec": {
   "display_name": "Python 3",
   "language": "python",
   "name": "python3"
  },
  "language_info": {
   "codemirror_mode": {
    "name": "ipython",
    "version": 3
   },
   "file_extension": ".py",
   "mimetype": "text/x-python",
   "name": "python",
   "nbconvert_exporter": "python",
   "pygments_lexer": "ipython3",
   "version": "3.7.4"
  }
 },
 "nbformat": 4,
 "nbformat_minor": 2
}
