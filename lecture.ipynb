{
 "cells": [
  {
   "cell_type": "code",
   "execution_count": 1,
   "metadata": {},
   "outputs": [],
   "source": [
    "import numpy as np\n",
    "\n",
    "xTrain = [[1,0],[1,1],[0,0]]"
   ]
  },
  {
   "cell_type": "code",
   "execution_count": 2,
   "metadata": {},
   "outputs": [],
   "source": [
    "yTrain = [2,2,1]"
   ]
  },
  {
   "cell_type": "code",
   "execution_count": 3,
   "metadata": {},
   "outputs": [],
   "source": [
    "yTrain = np.asarray(yTrain)\n",
    "xTrain = np.asarray(xTrain)\n",
    "xTest = [1,0]"
   ]
  },
  {
   "cell_type": "code",
   "execution_count": 4,
   "metadata": {},
   "outputs": [
    {
     "data": {
      "text/plain": [
       "array([[1, 0],\n",
       "       [1, 1],\n",
       "       [0, 0]])"
      ]
     },
     "execution_count": 4,
     "metadata": {},
     "output_type": "execute_result"
    }
   ],
   "source": [
    "xTrain"
   ]
  },
  {
   "cell_type": "code",
   "execution_count": 5,
   "metadata": {},
   "outputs": [
    {
     "data": {
      "text/plain": [
       "array([2, 2, 1])"
      ]
     },
     "execution_count": 5,
     "metadata": {},
     "output_type": "execute_result"
    }
   ],
   "source": [
    "yTrain"
   ]
  },
  {
   "cell_type": "code",
   "execution_count": 6,
   "metadata": {},
   "outputs": [],
   "source": [
    "FL = xTrain[yTrain==2].sum(axis=0)"
   ]
  },
  {
   "cell_type": "code",
   "execution_count": 7,
   "metadata": {},
   "outputs": [],
   "source": [
    "labels = [1,2]"
   ]
  },
  {
   "cell_type": "code",
   "execution_count": 8,
   "metadata": {},
   "outputs": [
    {
     "data": {
      "text/plain": [
       "[1, 2]"
      ]
     },
     "execution_count": 8,
     "metadata": {},
     "output_type": "execute_result"
    }
   ],
   "source": [
    "labels"
   ]
  },
  {
   "cell_type": "code",
   "execution_count": 20,
   "metadata": {},
   "outputs": [],
   "source": [
    "def calculateML(label):\n",
    "    return np.log(list(yTrain).count(label)/len(yTrain))\n",
    "\n",
    "def calculateFL(index,feature,alpha,label,FL):\n",
    "    tempCal = ( (FL[index]+alpha) / (list(yTrain).count(label) + 2*alpha) ) \n",
    "    if(feature == 1):\n",
    "        return np.log(tempCal)\n",
    "    else:\n",
    "        return np.log(1 - tempCal)"
   ]
  },
  {
   "cell_type": "code",
   "execution_count": 30,
   "metadata": {},
   "outputs": [],
   "source": [
    "def classify(row):\n",
    "    probList = []\n",
    "    for labelIndex,label in enumerate(labels):\n",
    "        FL = xTrain[yTrain==label].sum(axis=0)\n",
    "        lambdaLabel = calculateML(label)  \n",
    "        probLabel = lambdaLabel\n",
    "        for index, feature in enumerate(row):\n",
    "            probLabel += calculateFL(index,feature,2,label,FL)\n",
    "        probList.append(probLabel)\n",
    "    print(probList)\n",
    "    print(labels[probList.index(max(probList))])\n",
    "    \n",
    "    "
   ]
  },
  {
   "cell_type": "code",
   "execution_count": 31,
   "metadata": {},
   "outputs": [
    {
     "name": "stdout",
     "output_type": "stream",
     "text": [
      "[-2.5257286443082556, -1.5040773967762742]\n",
      "2\n",
      "[-2.9311937524164198, -1.5040773967762742]\n",
      "2\n",
      "[-2.120263536200091, -2.197224577336219]\n",
      "1\n"
     ]
    }
   ],
   "source": [
    "for row in xTrain:\n",
    "    classify(row)"
   ]
  },
  {
   "cell_type": "code",
   "execution_count": 32,
   "metadata": {},
   "outputs": [
    {
     "name": "stdout",
     "output_type": "stream",
     "text": [
      "[-2.120263536200091, -2.197224577336219]\n",
      "1\n"
     ]
    }
   ],
   "source": [
    "classify([0,0])"
   ]
  },
  {
   "cell_type": "code",
   "execution_count": null,
   "metadata": {},
   "outputs": [],
   "source": []
  }
 ],
 "metadata": {
  "kernelspec": {
   "display_name": "Python 3",
   "language": "python",
   "name": "python3"
  },
  "language_info": {
   "codemirror_mode": {
    "name": "ipython",
    "version": 3
   },
   "file_extension": ".py",
   "mimetype": "text/x-python",
   "name": "python",
   "nbconvert_exporter": "python",
   "pygments_lexer": "ipython3",
   "version": "3.7.4"
  }
 },
 "nbformat": 4,
 "nbformat_minor": 2
}
