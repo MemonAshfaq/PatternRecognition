{
 "cells": [
  {
   "cell_type": "code",
   "execution_count": 1,
   "metadata": {},
   "outputs": [],
   "source": [
    "import numpy as np\n",
    "import matplotlib.pyplot as plt\n",
    "from scipy.io import loadmat"
   ]
  },
  {
   "cell_type": "code",
   "execution_count": 2,
   "metadata": {},
   "outputs": [],
   "source": [
    "λList = np.hstack((np.arange(1,10,1), np.arange(10,105,5)))"
   ]
  },
  {
   "cell_type": "code",
   "execution_count": 3,
   "metadata": {},
   "outputs": [],
   "source": [
    "def sigm(x):\n",
    "    return 1/(1+np.exp(-x))\n",
    "\n",
    "def find_g_H(xMatx, yMatx, ω, λ):\n",
    "    D = len(xMatx[0])\n",
    "    xMatx = np.insert(xMatx, 0, 1, axis = 1)\n",
    "    \n",
    "    µList = sigm(np.dot(xMatx, ω))\n",
    "    sDiag = []    \n",
    "    for µ in µList:\n",
    "        sDiag.append(µ * (1 - µ))\n",
    "    S = np.diag(sDiag)\n",
    "        \n",
    "    I = np.ones(D)\n",
    "    I = np.insert(I, 0, 0)\n",
    "    I = np.diag(I)\n",
    "    \n",
    "    λI = np.dot(λ, I)\n",
    "    λω = np.insert(λ * ω[1:], 0, 0)    \n",
    "\n",
    "    gReg = np.dot(xMatx.T, (µList - yMatx))\n",
    "    HReg = np.dot(xMatx.T, np.dot(S, xMatx))    \n",
    "    gReg = gReg + λω\n",
    "    HReg = HReg + λI\n",
    "    \n",
    "    return gReg, HReg\n",
    "\n",
    "def findOmega(xMatx, yMatx, λ):\n",
    "    D = len(xMatx[0])\n",
    "    ω = np.zeros(D + 1)\n",
    "    endLoop = False\n",
    "    \n",
    "    while endLoop == False:\n",
    "        gReg, HReg = find_g_H(xMatx, yMatx, ω, λ)\n",
    "        ω_next = ω - np.dot(np.linalg.inv(HReg), gReg)\n",
    "        if (np.allclose(ω_next,ω,0.0001,0.0001)):\n",
    "            endLoop = True\n",
    "        else:\n",
    "            ω = ω_next\n",
    "    return ω_next\n",
    "        \n",
    "\n",
    "def logesticRegression(xMatx, yMatx, xTrain, yTrain, lam):\n",
    "    omega = findOmega(xTrain, yTrain, lam)\n",
    "    error_count = 0\n",
    "\n",
    "    result = (sigm(omega[0] + np.dot(xMatx, omega[1:])) > 0.5) + 0\n",
    "    return ((np.sum(result != yMatx)) / len(yMatx)) * 100"
   ]
  },
  {
   "cell_type": "code",
   "execution_count": 4,
   "metadata": {},
   "outputs": [],
   "source": [
    "mat = loadmat('spamData.mat')\n",
    "\n",
    "xTestOrig = mat['Xtest']  \n",
    "xTrainOrig = mat['Xtrain']\n",
    "yTestOrig = mat['ytest']  \n",
    "yTrainOrig = mat['ytrain']\n",
    "\n",
    "xtestLog = np.log(xTestOrig + 0.1)\n",
    "xtrainLog = np.log(xTrainOrig + 0.1)\n",
    "\n",
    "ytrainFlat = yTrainOrig.flatten()\n",
    "ytestFlat = yTestOrig.flatten()\n",
    "\n",
    "trainingError = []\n",
    "testError = []\n",
    "\n",
    "for λ in λList:\n",
    "    trainingError.append(logesticRegression(xtrainLog, ytrainFlat, xtrainLog, ytrainFlat, λ))\n",
    "    testError.append(logesticRegression(xtestLog, ytestFlat, xtrainLog, ytrainFlat, λ))"
   ]
  },
  {
   "cell_type": "code",
   "execution_count": 5,
   "metadata": {},
   "outputs": [
    {
     "data": {
      "image/png": "[encoded data removed]",
      "text/plain": [
       "<Figure size 432x288 with 1 Axes>"
      ]
     },
     "metadata": {
      "needs_background": "light"
     },
     "output_type": "display_data"
    }
   ],
   "source": [
    "plt.plot(λList,trainingError,'g',label='Training', linewidth=3)\n",
    "plt.plot(λList,testError,'r',label='Test', linewidth=3)\n",
    "plt.title('Q3: Logistic Regression')\n",
    "plt.ylabel('Error %')\n",
    "plt.xlabel('λ')\n",
    "plt.legend()\n",
    "plt.show()"
   ]
  },
  {
   "cell_type": "code",
   "execution_count": null,
   "metadata": {},
   "outputs": [],
   "source": []
  }
 ],
 "metadata": {
  "kernelspec": {
   "display_name": "Python 3",
   "language": "python",
   "name": "python3"
  },
  "language_info": {
   "codemirror_mode": {
    "name": "ipython",
    "version": 3
   },
   "file_extension": ".py",
   "mimetype": "text/x-python",
   "name": "python",
   "nbconvert_exporter": "python",
   "pygments_lexer": "ipython3",
   "version": "3.7.4"
  }
 },
 "nbformat": 4,
 "nbformat_minor": 2
}
